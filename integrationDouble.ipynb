{
 "cells": [
  {
   "cell_type": "code",
   "execution_count": 6,
   "metadata": {},
   "outputs": [],
   "source": [
    "from math import e, pi"
   ]
  },
  {
   "cell_type": "code",
   "execution_count": 2,
   "metadata": {},
   "outputs": [],
   "source": [
    "from sympy import *"
   ]
  },
  {
   "cell_type": "code",
   "execution_count": 3,
   "metadata": {},
   "outputs": [
    {
     "data": {
      "text/latex": [
       "$\\displaystyle 2.71828182845905^{x^{2} + y^{2}}$"
      ],
      "text/plain": [
       "2.71828182845905**(x**2 + y**2)"
      ]
     },
     "execution_count": 3,
     "metadata": {},
     "output_type": "execute_result"
    }
   ],
   "source": [
    "x = Symbol('x')\n",
    "y = Symbol('y')\n",
    "\n",
    "f = e**(x**2 + y**2)\n",
    "f"
   ]
  },
  {
   "cell_type": "code",
   "execution_count": 4,
   "metadata": {},
   "outputs": [],
   "source": [
    "def double_integral(a,b,c,d,n,m):\n",
    "\n",
    "    h = (b-a)/n\n",
    "    k = (d-c)/m\n",
    "\n",
    "    print(f'h = {h}')\n",
    "    print(f'k = {k}')\n",
    "\n",
    "    sumPairK = 0\n",
    "    sumPairH = 0\n",
    "    sumNotPairK = 0\n",
    "    sumNotPairH = 0\n",
    "\n",
    "    for i in range(1,(m//2)+1):\n",
    "        sumNotPairK += f.subs(y,c + (2*i - 1)*k)\n",
    "\n",
    "    for i in range(1,(m//2)):\n",
    "        sumPairK += f.subs(y,c + 2*i*k)\n",
    "\n",
    "    g = (k/3)*(f.subs(y,c) + 4*sumNotPairK + 2*sumPairK + f.subs(y,d))\n",
    "\n",
    "    for i in range(1,(n//2)+1):\n",
    "        sumNotPairH += g.subs(x, a + (2*i - 1)*h)\n",
    "\n",
    "    for i in range(1,(n//2)):\n",
    "        sumPairH += g.subs(x,a + 2*i*h)\n",
    "\n",
    "    I = (h/3)*(g.subs(x,a) + 4*sumNotPairH + 2*sumPairH + g.subs(x,b))\n",
    "\n",
    "    print(f'Respuesta: {I.evalf()}')"
   ]
  },
  {
   "cell_type": "code",
   "execution_count": 5,
   "metadata": {},
   "outputs": [
    {
     "name": "stdout",
     "output_type": "stream",
     "text": [
      "h = 0.16666666666666666\n",
      "k = x/6\n",
      "Respuesta: 1.07103908086675\n"
     ]
    }
   ],
   "source": [
    "double_integral(0,1,0,x,6,6)"
   ]
  }
 ],
 "metadata": {
  "interpreter": {
   "hash": "aee8b7b246df8f9039afb4144a1f6fd8d2ca17a180786b69acc140d282b71a49"
  },
  "kernelspec": {
   "display_name": "Python 3.9.5 64-bit",
   "name": "python3"
  },
  "language_info": {
   "codemirror_mode": {
    "name": "ipython",
    "version": 3
   },
   "file_extension": ".py",
   "mimetype": "text/x-python",
   "name": "python",
   "nbconvert_exporter": "python",
   "pygments_lexer": "ipython3",
   "version": "3.9.5"
  },
  "orig_nbformat": 4
 },
 "nbformat": 4,
 "nbformat_minor": 2
}