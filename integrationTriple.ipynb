{
 "metadata": {
  "language_info": {
   "codemirror_mode": {
    "name": "ipython",
    "version": 3
   },
   "file_extension": ".py",
   "mimetype": "text/x-python",
   "name": "python",
   "nbconvert_exporter": "python",
   "pygments_lexer": "ipython3",
   "version": "3.9.5"
  },
  "orig_nbformat": 4,
  "kernelspec": {
   "name": "python3",
   "display_name": "Python 3.9.5 64-bit"
  },
  "interpreter": {
   "hash": "aee8b7b246df8f9039afb4144a1f6fd8d2ca17a180786b69acc140d282b71a49"
  }
 },
 "nbformat": 4,
 "nbformat_minor": 2,
 "cells": [
  {
   "cell_type": "code",
   "execution_count": 1,
   "metadata": {},
   "outputs": [],
   "source": [
    "from math import e, pi\n"
   ]
  },
  {
   "cell_type": "code",
   "execution_count": 2,
   "metadata": {},
   "outputs": [],
   "source": [
    "from sympy import *"
   ]
  },
  {
   "cell_type": "code",
   "execution_count": 3,
   "metadata": {},
   "outputs": [
    {
     "output_type": "execute_result",
     "data": {
      "text/plain": [
       "2.71828182845905**(x**2 + y**2)"
      ],
      "text/latex": "$\\displaystyle 2.71828182845905^{x^{2} + y^{2}}$"
     },
     "metadata": {},
     "execution_count": 3
    }
   ],
   "source": [
    "x = Symbol('x')\n",
    "y = Symbol('y')\n",
    "z = Symbol('z')\n",
    "\n",
    "f = pow(e,x**2 + y**2)\n",
    "f"
   ]
  },
  {
   "cell_type": "code",
   "execution_count": 4,
   "metadata": {},
   "outputs": [],
   "source": [
    "def triple_integral(a,b,c,d,q,r,n,m,p):\n",
    "\n",
    "    h = (b-a)/n\n",
    "    k = (d-c)/m\n",
    "    l = (r-q)/p\n",
    "\n",
    "    print(f'h3 = {l}')\n",
    "    print(f'h2 = {k}')\n",
    "    print(f'h1 = {h}')\n",
    "\n",
    "    sumPairK = 0\n",
    "    sumPairH = 0\n",
    "    sumPairL = 0\n",
    "    sumNotPairK = 0\n",
    "    sumNotPairH = 0\n",
    "    sumNotPairL = 0\n",
    "\n",
    "    for i in range(1,(p//2)+1):\n",
    "        sumNotPairL += f.subs(z,q + (2*i - 1)*l)\n",
    "\n",
    "    for i in range(1,(p//2)):\n",
    "        sumPairL += f.subs(z,q + 2*i*l)\n",
    "\n",
    "    #dz\n",
    "    g = (l/3)*(f.subs(z,q) + 4*sumNotPairL + 2*sumPairL + f.subs(z,r))\n",
    "\n",
    "    for i in range(1,(m//2)+1):\n",
    "        sumNotPairK += g.subs(y, c + (2*i - 1)*k)\n",
    "\n",
    "    for i in range(1,(m//2)):\n",
    "        sumPairK += g.subs(y,c + 2*i*k)\n",
    "\n",
    "    #dy\n",
    "    u = (k/3)*(g.subs(y,c) + 4*sumNotPairK + 2*sumPairK + g.subs(y,d))\n",
    "\n",
    "    for i in range(1,(n//2)+1):\n",
    "        sumNotPairH += u.subs(x,a + (2*i - 1)*h)\n",
    "\n",
    "    for i in range(1,(n//2)):\n",
    "        sumPairH += u.subs(x,a + 2*i*h)\n",
    "\n",
    "    #dx\n",
    "    I = (h/3)*(u.subs(x,a) + 4*sumNotPairH + 2*sumPairH + u.subs(x,b))\n",
    "    \n",
    "\n",
    "    print(f'Respuesta: {I.evalf()}')"
   ]
  },
  {
   "cell_type": "code",
   "execution_count": 5,
   "metadata": {},
   "outputs": [
    {
     "output_type": "stream",
     "name": "stdout",
     "text": [
      "h3 = x*y/3\n",
      "h2 = 0.16666666666666666\n",
      "h1 = 0.16666666666666666\n",
      "Respuesta: 1.47759679468811\n"
     ]
    }
   ],
   "source": [
    "triple_integral(0,1,0,1,-x*y,x*y,6,6,6)"
   ]
  },
  {
   "cell_type": "code",
   "execution_count": null,
   "metadata": {},
   "outputs": [],
   "source": []
  }
 ]
}