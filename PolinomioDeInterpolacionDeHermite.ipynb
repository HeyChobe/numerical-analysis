{
 "cells": [
  {
   "cell_type": "markdown",
   "metadata": {},
   "source": [
    "# POLINOMIO DE INTERPOLACIÓN DE HERMITE\n",
    "Grupo $\\iota$ (iota)<br/>\n",
    "Importante: Para correr los códigos, es necesario tener instalado lo siguiente:\n",
    "- Python 2.7 o superior\n",
    "- Numpy (para el manejo de arreglos optimizados)\n",
    "- Sympy (para los polinomios)\n",
    "- Matplotlib (para las gráficas)"
   ]
  },
  {
   "cell_type": "markdown",
   "metadata": {},
   "source": [
    "Consideremos el problema de buscar un polinomio que cumpla con las siguientes características:\n",
    "- Sean $x_0, . . . , x_n$ números distintos pertenecientes al intervalo $[a,b]$ de $f$ en $x_i$, un polinomio $p(x_i)$ que aproxime a las mismas imágenes de $f(x_i)$ con $i=0,1,2,...,n$\n",
    "\n",
    "$$p(x_i)=f(x_i)$$\n",
    "\n",
    "\n",
    "- Además, $p(x_i)$ debe aproximar a las imágenes de la primera derivada de $f(x_i)$\n",
    "\n",
    "$$p'(x_i)=f'(x_i)$$\n",
    "\n",
    "El polonomio que cumple con esas características es el **_Polinomio de Interpolación de Hermite_**."
   ]
  },
  {
   "cell_type": "markdown",
   "metadata": {},
   "source": [
    "## TEOREMA:\n",
    "\n",
    "Si $f ∈ C^1 [a, b] $ y $x_0, . . . , x_n ∈ [a, b]$ son distintos, el **único** polinomio de menor grado que concuerda con $f$ y $f'$ en $x_0,x_1,...,x_n$ es el polinomio de Hermite de grado a lo sumo $2n + 1$ dado por\n",
    "\n",
    "$$H_{2n+1}(x) = \\sum_{j=0}^{n} f(x_j)H_{n,j}(x) + \\sum_{j=0}^{n} f'(x_j)\\hat{H}_{n,j}(x)$$\n",
    "\n",
    "Siendo: \n",
    "\n",
    "$$H_{n,j}(x) = [1 - 2(x-x_j)L'_{n,j}(x_j)][L_{n,j}(x)]^2$$\n",
    "$$\\hat{H}_{n,j}(x) = (x-x_j)[L_{n,j}(x)]^2$$\n",
    "\n",
    "Donde cada $L_{n,j}(x)$ son el $i$-ésimo coeficiente del polonomio de Lagrange de grado n."
   ]
  },
  {
   "cell_type": "markdown",
   "metadata": {},
   "source": [
    "## DEMOSTRACIÓN:\n",
    "\n",
    "- ### $H_{2n + 1}(x) = f(x)$\n",
    "\n",
    "Al igual que el _Lagrange_, Hermite es un polinomio $H_{2n + 1}(x)$ que interpola los mismos puntos que una función $f(x)$, por eso se le denomina **_polinomio osculante_**, ya que no tendrá específicamente la misma forma que $f(x)$, si no que solo \"besará\" los puntos dados de la función.\n",
    "\n",
    "Por lo tanto, recordemos que en _Lagrange_:\n",
    "\n",
    "$$L_{n,j}(x_i) = \\begin{Bmatrix}0, i \\neq j \\\\1, i=j\\end{Bmatrix}$$\n",
    "\n",
    "Entonces, cuando $i \\neq j$:\n",
    "\n",
    "$$H_{n,j}(x_i) = 0$$ \n",
    "$$y$$ \n",
    "$$\\hat{H}_{n,j}(x_i)=0$$\n",
    "\n",
    "Por lo que para cada $i$:\n",
    "\n",
    "$$H_{n,i}(x_i) = [1 - 2(x_i-x_i)L'_{n,i}(x_i)]\\cdot 1^2 = 1$$ \n",
    "$$y$$ \n",
    "$$\\hat{H}_{n,i}(x_i) = (x_i-x_i)\\cdot1^2 = 0$$\n",
    "\n",
    "Sustituyendo:\n",
    "\n",
    "$$H_{2n+1}(x_i) = \\sum_{\\substack{j=0 \\\\j\\neq i}} ^{n} f(x_j) \\cdot 0 + f(x_i) \\cdot 1 + \\sum_{j=0}^{n} f'(x_j) \\cdot 0$$\n",
    "$$H_{2n+1}(x_i) = f(x_i)$$\n",
    "$$lqqd$$\n",
    "\n",
    "- ### $H'_{2n + 1}(x) = f'(x)$\n",
    "\n",
    "Realizando las derivadas obtenemos:\n",
    "\n",
    "$$H'_{n,j}(x_i) = -2L'_{n,j}(x_i)\\cdot[L_{n,j}(x_i)]^2 + 2\\cdot[1 - 2(x_i-x_j)L'_{n,j}(x_i)]\\cdot[L_{n,j}(x_i)]\\cdot[L'_{n,j}(x_i)]$$\n",
    "$$H'_{n,j}(x_i) = -2L'_{n,j}(x_i) + 2L'_{n,j}(x_i)$$\n",
    "$$H'_{n,j}(x_i) = 0$$\n",
    "\n",
    "Por lo tanto, $H'_{n,j}(x_i) = 0$ para todas las $i$ y $j$, finalmente:\n",
    "\n",
    "$$\\hat{H}'_{n,j}(x_i) = [L_{n,j}(x_i)]^2 + (x_i - x_j)2L_{n,j}(x_i)L'_{n,j}(x_i)$$\n",
    "$$\\hat{H}'_{n,j}(x_i) = 0$$\n",
    "\n",
    "Sustituyendo:\n",
    "\n",
    "$$H'_{2n+1}(x_i) = \\sum_{j=0}^{n} f(x_j) \\cdot 0 + \\sum_{\\substack{j=0\\\\j\\neq i}}^{n} f'(x_j) \\cdot 0 + f'(x_i) \\cdot 1$$\n",
    "$$H'_{2n+1}(x_i) = f'(x_i)$$\n",
    "$$lqqd$$"
   ]
  },
  {
   "cell_type": "markdown",
   "metadata": {},
   "source": [
    "## VENTAJAS:\n",
    "- Además de encontrar con Hermite un polinomio que tenga las mismas imágenes que la función original, sus derivadas también son las mismas imágenes que las derivadas de la función original.\n",
    "- Es fácil de calcular ya que garantiza la posición de los frames al ser una interpolación además de brindar la certeza de que la tangente de la curva generada es continua a lo largo de multiples segmentos.\n",
    "- La precisión será más exacta, ya que las rectas tangentes serán las mismas que las de la función original."
   ]
  },
  {
   "cell_type": "markdown",
   "metadata": {},
   "source": [
    "## DESVENTAJAS:\n",
    "- Ya que el grado del polinomio que cumple con los requisitos es de grado $2n + 1$, el grado n para obtener el polinomio de Hermite siempre será más alto de lo necesario.\n",
    "- Requiere la disponibilidad de las primeras derivadas, lo cual en muchos casos son desconocidas.\n",
    "- Similar a Lagrange, Hermite requiere que $f'(x_i)$ esté dentro de $0 < i < 1$, y no todas las funciones son capaces de cumplirlo."
   ]
  },
  {
   "cell_type": "markdown",
   "metadata": {},
   "source": [
    "## EJERCICIOS:"
   ]
  },
  {
   "cell_type": "markdown",
   "metadata": {},
   "source": [
    "- ### Ejercicio 1\n",
    "\n",
    "Use el polinomio de Hermite que concuerda con los datos listados en la tabla para encontrar una aproximación de $f(1.5)$.\n",
    "\n",
    "\n",
    "|$k$|$x_k$|$f(x_k)$   |$f'(x_k)$   |\n",
    "|---|-----|-----------|------------|\n",
    "| 0 | 1.3 | 0.6200860 | −0.5220232 |\n",
    "| 1 | 1.6 | 0.4554022 | −0.5698959 |\n",
    "| 2 | 1.9 | 0.2818186 | −0.5811571 |\n",
    "\n",
    "\n",
    "**Solución:** \n",
    "Primero calculamos los polinomios de Lagrange y sus derivadas.\n",
    "\n",
    "$$L_{2,0}(x)= \\frac{(x-x_1)(x-x_2)}{(x_0-x_1)(x_0-x_2)}= \\frac{50}{9}x^2-\\frac{175}{9}x+\\frac{152}{9},   \\ \\ \\ \\ \\ \\ \\ \\ \\ L'_{2,0}(x)=\\frac{100}{9}x-\\frac{175}{9};$$\n",
    "\n",
    "$$L_{2,1}(x)= \\frac{(x-x_0)(x-x_2)}{(x_1-x_0)(x_1-x_2)}= \\frac{-100}{9}x^2-\\frac{320}{9}x+\\frac{247}{9},  \\ \\ \\ \\ \\ \\ \\ \\ \\ L'_{2,1}(x)=\\frac{-200}{9}x-\\frac{320}{9};$$\n",
    "\n",
    "$$L_{2,2}(x)= \\frac{(x-x_0)(x-x_1)}{(x_2-x_0)(x_2-x_1)}= \\frac{50}{9}x^2-\\frac{145}{9}x+\\frac{104}{9},  \\ \\ \\ \\ \\ \\ \\ \\ \\ L'_{2,2}(x)=\\frac{100}{9}x-\\frac{145}{9}.$$\n",
    "\n",
    "Los polinomios $H_{2,j}(x)$ y $\\hat{H}_{2,j}(x)$ son entonces\n",
    "\n",
    "$$H_{2,0}(x)=[1-2(x-1.3)(-5)](\\frac{50}{9}x^2-\\frac{175}{9}x+\\frac{152}{9})^2 = (10x-12)(\\frac{50}{9}x^2-\\frac{175}{9}x+\\frac{152}{9})^2,$$\n",
    "\n",
    "$$H_{2,1}(x)=1.(\\frac{-100}{9}x^2+\\frac{320}{9}x-\\frac{247}{9})^2,$$\n",
    "\n",
    "$$H_{2,2}(x)=10(2-x)(\\frac{50}{9}x^2-\\frac{145}{9}x+\\frac{104}{9})^2,$$\n",
    "\n",
    "$$\\hat{H}_{2,0}(x)=(x-1.3)(\\frac{50}{9}x^2-\\frac{175}{9}x+\\frac{152}{9})^2,$$\n",
    "\n",
    "$$\\hat{H}_{2,1}(x)=(x-1.6)(\\frac{-100}{9}x^2+\\frac{320}{9}x-\\frac{247}{9})^2,$$\n",
    "\n",
    "$$\\hat{H}_{2,2}(x)=(x-1.9)(\\frac{50}{9}x^2-\\frac{145}{9}x+\\frac{104}{9})^2.$$\n",
    "\n",
    "Finalmente, multiplicamos los $H_{2,j}(x)$ por las imagenes en \"y\" $f(x_k)$ y los $\\hat{H}_{2,j}(x)$ por los valores de las derivadas  $f'(x_k)$\n",
    "\n",
    "$$H_5(x) = 0.6200860 H_{2,0}(x) + 0.4554022 H_{2,1}(x) + 0.2818186 H_{2,2}(x) − 0.5220232 \\hat{H}_{2,0}(x) - 0.5698959 \\hat{H}_{2,1}(x) - 0.5811571 \\hat{H}_{2,2}(x)$$\n",
    "\n",
    "$$H_5(1.5) = 0.6200860 (\\frac{4}{27}) + 0.4554022 (\\frac{64}{81}) + 0.2818186 (\\frac{5}{81}) − 0.5220232 (\\frac{4}{405}) - 0.5698959 (\\frac{-32}{405})  - 0.5811571 (\\frac{-2}{405})$$\n",
    "\n",
    "$$H_5(1.5) = {\\color{green}{0.5118277}}$$"
   ]
  },
  {
   "cell_type": "markdown",
   "metadata": {},
   "source": [
    "- ### Ejercicio 1.1: Realizando el ejercicio anterior con python"
   ]
  },
  {
   "cell_type": "code",
   "execution_count": 169,
   "metadata": {},
   "outputs": [
    {
     "data": {
      "text/latex": [
       "$\\displaystyle - 0.00277469135824404 x^{5} + 0.024031790125548 x^{4} - 0.0145560802536693 x^{3} - 0.235216169740852 x^{2} - 0.00822922346583255 x + 1.00194406469399$"
      ],
      "text/plain": [
       "-0.00277469135824404*x**5 + 0.024031790125548*x**4 - 0.0145560802536693*x**3 - 0.235216169740852*x**2 - 0.00822922346583255*x + 1.00194406469399"
      ]
     },
     "execution_count": 169,
     "metadata": {},
     "output_type": "execute_result"
    }
   ],
   "source": [
    "from sympy import *\n",
    "import matplotlib.pyplot as plt\n",
    "import numpy as np\n",
    "\n",
    "x = Symbol(\"x\")\n",
    "\n",
    "'''\n",
    "n : valor del grado del polinomio 2n + 1\n",
    "xs : valores de x\n",
    "ys : valores de y\n",
    "dys : valores de la primera derivada\n",
    "'''\n",
    "\n",
    "def hermite(n, xs, ys, dys):\n",
    "    h = []\n",
    "    hatH = []\n",
    "\n",
    "    for i in range(0, (n+1)//2):\n",
    "        l = lagrangeFactor(n, xs, i)\n",
    "        d = diff(l)\n",
    "        f = (1-2*(x-xs[i])*d.subs(x, xs[i]))*l**2\n",
    "        hatF = (x-xs[i])*l**2\n",
    "        h.append(f)\n",
    "        hatH.append(hatF)\n",
    "\n",
    "    p = 0\n",
    "\n",
    "    for i in range(0, (n+1)//2):\n",
    "        p += ys[i]*h[i]\n",
    "\n",
    "    for i in range(0, (n+1)//2):\n",
    "        p += dys[i]*hatH[i]\n",
    "\n",
    "    return p\n",
    "\n",
    "\n",
    "'''\n",
    "n : valor del grado del polinomio 2n + 1\n",
    "xs : valores de x\n",
    "k : valor iterativo\n",
    "'''\n",
    "\n",
    "def lagrangeFactor(n, xs, k):\n",
    "    L = 1\n",
    "    for i in range(0, (n+1)//2):\n",
    "        if (i != k):\n",
    "            L *= (x - xs[i])/(xs[k] - xs[i])\n",
    "    return L\n",
    "\n",
    "\n",
    "xs = [1.3, 1.6, 1.9]\n",
    "ys = [0.6200860, 0.4554022, 0.2818186]\n",
    "dys = [-0.5220232, -0.5698959, -0.5811571]\n",
    "\n",
    "pol = hermite(5, xs, ys, dys)\n",
    "pol.expand()\n"
   ]
  },
  {
   "cell_type": "markdown",
   "metadata": {},
   "source": [
    "Por lo tanto, al sustituír $H_{2n + 1}(1.5)$ obtenemos:"
   ]
  },
  {
   "cell_type": "code",
   "execution_count": 170,
   "metadata": {},
   "outputs": [
    {
     "data": {
      "text/latex": [
       "$\\displaystyle 0.511827701728394$"
      ],
      "text/plain": [
       "0.511827701728394"
      ]
     },
     "execution_count": 170,
     "metadata": {},
     "output_type": "execute_result"
    }
   ],
   "source": [
    "pol.subs(x, 1.5)\n"
   ]
  },
  {
   "cell_type": "markdown",
   "metadata": {},
   "source": [
    "Graficando los puntos y el polinomio obtenemos:"
   ]
  },
  {
   "cell_type": "code",
   "execution_count": 171,
   "metadata": {},
   "outputs": [
    {
     "data": {
      "image/png": "[encoded data removed]",
      "text/plain": [
       "<Figure size 432x288 with 1 Axes>"
      ]
     },
     "metadata": {
      "needs_background": "light"
     },
     "output_type": "display_data"
    }
   ],
   "source": [
    "# Datos\n",
    "a = np.min(xs[0]-1)\n",
    "b = np.max(xs[len(xs)-1]+1)\n",
    "hx = np.linspace(a,b,200)\n",
    "py = lambdify(x,pol)\n",
    "hy = py(hx)\n",
    "\n",
    "# Gráfica\n",
    "plt.plot(xs, ys, 'o', label='Puntos')\n",
    "plt.plot(hx,hy,label='Polinomio')\n",
    "plt.legend()\n",
    "plt.xlabel('xi')\n",
    "plt.ylabel('fi')\n",
    "plt.title('Lagrange')\n",
    "plt.show()"
   ]
  },
  {
   "cell_type": "markdown",
   "metadata": {},
   "source": [
    "## INTERPOLACIÓN DE HERMITE CON DIFERENCIAS DIVIDIDAS"
   ]
  },
  {
   "cell_type": "markdown",
   "metadata": {},
   "source": [
    "Las diferencias divididas generalizadas se construyen de igual manera que las _Diferencias Divididas de Newton_, con la única diferencia que ahora se necesita replicar nuestras muestras $x_i$ tantas veces como las derivadas que poseamos, en este caso se estudiara únicamente cuando se conoce la primera derivada. \n",
    "\n",
    "De igual manera que en la interpolación de Lagrange la interpolación de Hermite con el grado $2n + 1$ se escribirá inmediatamente calculadas las _Diferencias Divididas_.\n",
    "\n",
    "$$H_{2n+1}(x) = f[x_0] + f[x_0,x_0](x-x_0)+...+f[x_0,x_0,...,x_n,x_n](x-x_0)^2(x-x_{n-1})^2(x-x_n)$$ \n",
    "\n",
    "Aparentemente se nota que $f[x_i,x_i]$ no estan definida puesto que\n",
    "\n",
    "$$f[x_i, x_i] = \\frac{f[x_i]-f[x_i]}{x_i-x_i} = \\frac{0}{0}$$\n",
    "\n",
    "Sin embargo, podemos tomar un paso infinitisimal $h$ para el termino resultando en\n",
    "\n",
    "$$f[x_i+h, x_i] = \\frac{f[x_i+h]-f[x_i]}{x_i+h-x_i} = \\frac{f[x_i+h]-f[x_i]}{h}$$\n",
    "\n",
    "Si se toma el limite cuando $h \\rightarrow 0$ se tendrá\n",
    "\n",
    "$$f[x_i, x_i] = f'(x_i)$$\n",
    "\n",
    "Con lo anterior, es posible concluir que la nueva tabla de diferencias divididas es la siguiente:\n",
    "\n",
    "| $z$      | $f(z)$            | $1^{ra} Diferencia Dividida$                 |$2^{da} Diferencia Dividida$                          |\n",
    "|----------|-------------------|----------------------------------------------|------------------------------------------------------|\n",
    "|$z_0=x_0$ |$ f[z_0) = f(x_0)$ |                                              |                                                      |\n",
    "|          |                   |$f[z_0,z_1] = f'(x_0)$                        |                                                      |\n",
    "|$z_1=x_0$ |$ f[z_1] = f(x_0)$ |                                              |$f[z_0,z_1,z_2]=\\frac{f[z_1,z_2]-f[z_0,z_1]}{z_2-z_0}$|\n",
    "|          |                   |$f[z_1,z_2] = \\frac{f[z_2]-f[z_1]}{z_2-z_1}$  |                                                      |\n",
    "|$z_2=x_1$ |$ f[z_2] = f(x_1)$ |                                              |$f[z_1,z_2,z_3]=\\frac{f[z_2,z_3]-f[z_1,z_2]}{z_3-z_1}$|\n",
    "|          |                   |$f[z_2,z_3] = f'(x_1)$                        |                                                      |\n",
    "|$z_3=x_1$ |$ f[z_3] = f(x_1)$ |                                              |$f[z_2,z_3,z_4]=\\frac{f[z_3,z_4]-f[z_2,z_3]}{z_4-z_2}$|\n",
    "|          |                   |$f[z_3,z_4] = \\frac{f[z_4]-f[z_3]}{z_4 - z_5}$|                                                      |\n",
    "|$z_4=x_2$ |$ f[z_4] = f(x_2)$ |                                              |$f[z_3,z_4,z_5]=\\frac{f[z_4,z_5]-f[z_3,z_4]}{z_5-z_3}$|\n",
    "|          |                   |$f[z_4,z_5] = f'(x_2)$                        |                                                      |\n",
    "|$z_5=x_2$ |$ f[z_5] = f(x_2)$ |                                              |                                                      |"
   ]
  },
  {
   "cell_type": "markdown",
   "metadata": {},
   "source": [
    "- ### Ejercicio 2: Realizar el ejercicio 1 utilizando Interpolación de Hermite con Diferencias Divididas"
   ]
  },
  {
   "cell_type": "markdown",
   "metadata": {},
   "source": [
    "Usando los datos que se proporcionan en la tabla y el método de diferencias divididas de Newton, determine la aproximación polinomial de Hermite en $x=1.5$.\n",
    "\n",
    "|$k$|$x_k$|$f(x_k)$   |$f'(x_k)$   |\n",
    "|---|-----|-----------|------------|\n",
    "| 0 | 1.3 | 0.6200860 | −0.5220232 |\n",
    "| 1 | 1.6 | 0.4554022 | −0.5698959 |\n",
    "| 2 | 1.9 | 0.2818186 | −0.5811571 |\n",
    "\n",
    "**Solución:** Primero calcularemos las diferencias divididas:\n",
    "\n",
    "| $z$                 | $f(z)$                    |$1^{ra}$                    |$2^{da}$     |$3^{ra}$    |$4^{ta}$    |$5^{ta}$     |\n",
    "|---------------------|---------------------------|----------------------------|-------------|------------|------------|-------------|\n",
    "|${\\color{orange}{1.3}}$|${\\color{orange}{0.6200860}}$|                            |             |            |            |             |\n",
    "|                     |                           |${\\color{orange}{-0.5220232}}$|             |            |            |             |\n",
    "|${\\color{orange}{1.3}}$|${\\color{orange}{0.6200860}}$|                            |$-0.0897427$ |            |            |             |\n",
    "|                     |                           |$-0.5489460$                |             |$0.0663657$ |            |             |\n",
    "|${\\color{orange}{1.6}}$|${\\color{orange}{0.4554022}}$|                            |$-0.0698330$ |            |$0.0026663$ |             |\n",
    "|                     |                           |${\\color{orange}{−0.5698959}}$|             |$0.0679655$ |            |$-0.0027738$ |\n",
    "|${\\color{orange}{1.6}}$|${\\color{orange}{0.4554022}}$|                            |$-0.0290537$ |            |$0.0010020$ |             |\n",
    "|                     |                           |$-0.5786120$                |             |$0.0685667$ |            |             |\n",
    "|${\\color{orange}{1.9}}$|${\\color{orange}{0.2818186}}$|                            |$-0.0084837$ |            |            |             |\n",
    "|                     |                           |${\\color{orange}{−0.5811571}}$|             |            |            |             |\n",
    "|${\\color{orange}{1.9}}$|${\\color{orange}{0.2818186}}$|                            |             |            |            |             |\n",
    "\n",
    "\n",
    "Las entradas en color naranja en las primeras tres columnas de la tabla son los datos que se proporcionaron por el ejercicio. Las entradas restantes en esta tabla se generan con la fórmula de diferencias divididas estándar. Por ejemplo, para la segunda entrada en la tercera columna usamos la segunda entrada 1.3 en la segunda columna y la primera entrada 1.6 en esa columna para obtener:\n",
    "\n",
    "$$ \\frac{0.4554022 − 0.6200860}{1.6-1.3} = −0.5489460 $$\n",
    "\n",
    "Para la primera entrada en la cuarta columna, usamos la primera entrada 1.3 en la tercera columna y la primera entrada 1.6 en esa columna para obtener:\n",
    "\n",
    "$$ \\frac{−0.5489460 − (−0.5220232)}{1.6 − 1.3} = −0.0897427 $$\n",
    "\n",
    "El valor del polinomio de Hermite en 1.5 es:\n",
    "\n",
    "$$H_5(1.5) = f[1.3]+f'(1.3)(1.5 − 1.3) + f[1.3, 1.3, 1.6](1.5 − 1.3)^2+f[1.3, 1.3, 1.6, 1.6](1.5 − 1.3)^2(1.5 − 1.6)$$\n",
    "$$\\ \\ \\ \\ \\ \\ \\ \\ \\ +f[1.3, 1.3, 1.6, 1.6, 1.9](1.5 − 1.3)^2(1.5 − 1.6)^2+f[1.3, 1.3, 1.6, 1.6, 1.9, 1.9](1.5 − 1.3)^2(1.5 − 1.6)^2(1.5 − 1.9)$$\n",
    "\n",
    "$$H_5(1.5) =0.6200860 + (−0.5220232)(0.2) + (−0.0897427)(0.2)^2+ 0.0663657(0.2)^2(−0.1) + 0.0026663(0.2)^2(−0.1)^2+ (−0.0027738)(0.2)^2(−0.1)^2(−0.4)$$\n",
    "$$H_5(1.5) = {\\color{green}{0.5118277}}$$"
   ]
  },
  {
   "cell_type": "markdown",
   "metadata": {},
   "source": [
    "- ### Ejercicio 2.1: Realizar el ejercicio 2 utilizando Interpolación de Hermite con Diferencias Dividas "
   ]
  },
  {
   "cell_type": "code",
   "execution_count": 172,
   "metadata": {},
   "outputs": [
    {
     "data": {
      "image/png": "[encoded data removed]",
      "text/plain": [
       "<Figure size 432x288 with 1 Axes>"
      ]
     },
     "metadata": {
      "needs_background": "light"
     },
     "output_type": "display_data"
    }
   ],
   "source": [
    "def graphic(pol, xi, fi, x):\n",
    "    # polinomio para evaluacion numérica\n",
    "    px = lambdify(x,pol)\n",
    "\n",
    "    # Puntos para la gráfica\n",
    "    samples = 200\n",
    "    a = np.min(xi-1)\n",
    "    b = np.max(xi+1)\n",
    "    pxi = np.linspace(a,b,samples)\n",
    "    pfi = px(pxi)\n",
    "\n",
    "    np.set_printoptions(precision = 4)\n",
    "\n",
    "    # Gráfica\n",
    "    plt.plot(xi,fi,'o', label = 'Puntos')\n",
    "    plt.plot(pxi,pfi, label = 'Polinomio')\n",
    "    plt.legend()\n",
    "    plt.xlabel('xi')\n",
    "    plt.ylabel('fi')\n",
    "    plt.title('Diferencias Divididas Simple Generalizada')\n",
    "    plt.show()\n",
    "\n",
    "def getSimplePolynomial(factors, fi, xi, n, x ):\n",
    "    pol = fi[0]\n",
    "    for j in range(1,n,1):\n",
    "        factor = factors[j-1]\n",
    "        term = 1\n",
    "        for k in range(0,j,1):\n",
    "            term = term*(x-xi[k])\n",
    "        pol = pol + term*factor\n",
    "\n",
    "    return pol.expand()\n",
    "\n",
    "def fillTable(table, n, m, xi, dfi):\n",
    "    d = n-1\n",
    "    j = 3\n",
    "\n",
    "    tmp_table = table\n",
    "    # Calcula tabla, inicia en columna 3\n",
    "    while (j < m):\n",
    "\n",
    "        # cada fila de columna\n",
    "        i = 0\n",
    "        step = j-2 # inicia en 1\n",
    "        derivate_iterator = 0\n",
    "        while (i < d):\n",
    "            denominador = (xi[i+step]-xi[i])\n",
    "            numerador = tmp_table[i+1,j-1]-tmp_table[i,j-1]\n",
    "\n",
    "            if denominador == 0 and numerador == 0:\n",
    "                tmp_table[i, j] = dfi[derivate_iterator]\n",
    "                derivate_iterator = derivate_iterator + 1\n",
    "            else :\n",
    "                tmp_table[i,j] = numerador/denominador\n",
    "            i = i+1\n",
    "        d = d - 1\n",
    "        j = j+1\n",
    "\n",
    "    return tmp_table\n",
    "\n",
    "def duplicateArray(arr):\n",
    "    duplicates_values = np.array([])\n",
    "    for number in arr:\n",
    "        duplicates_values = np.append(duplicates_values, np.repeat(number, 2))\n",
    "\n",
    "    return duplicates_values\n",
    "\n",
    "def newtonHermite(xi, fi, dfi) :\n",
    "    duplicate_xi = duplicateArray(xi)\n",
    "    duplicate_fi = duplicateArray(fi)\n",
    "    array_length = len(duplicate_xi)\n",
    "\n",
    "    ki = np.arange(0,array_length,1)\n",
    "    table = np.concatenate(([ki],[duplicate_xi],[duplicate_fi]),axis=0)\n",
    "    table = np.transpose(table)\n",
    "\n",
    "    dfinita = np.zeros(shape=(array_length,array_length),dtype=float)\n",
    "    table = np.concatenate((table,dfinita), axis=1)\n",
    "    [array_length,m] = np.shape(table)\n",
    "\n",
    "    table = fillTable(table, array_length, m, duplicate_xi, dfi)\n",
    "\n",
    "    newton_factors = table[0,3:]\n",
    "    array_length = len(dfinita)\n",
    "    x = Symbol('x')\n",
    "\n",
    "    polynomial = getSimplePolynomial(newton_factors,  duplicate_fi, duplicate_xi, array_length, x)\n",
    "    graphic(polynomial, duplicate_xi, duplicate_fi, x)\n",
    "\n",
    "    polynomial\n",
    "\n",
    "    return polynomial\n",
    "\n",
    "hPol = newtonHermite(np.array([1.3,1.6, 1.9]), np.array([  0.6200860, 0.4554022, 0.2818186]),np.array([ -0.5220232, -0.5698959, -0.5811571]))"
   ]
  },
  {
   "cell_type": "code",
   "execution_count": 173,
   "metadata": {},
   "outputs": [
    {
     "data": {
      "text/latex": [
       "$\\displaystyle - 0.00277469135798944 x^{5} + 0.0240317901231809 x^{4} - 0.0145560802460553 x^{3} - 0.235216169754413 x^{2} - 0.00822922345577151 x + 1.00194406469105$"
      ],
      "text/plain": [
       "-0.00277469135798944*x**5 + 0.0240317901231809*x**4 - 0.0145560802460553*x**3 - 0.235216169754413*x**2 - 0.00822922345577151*x + 1.00194406469105"
      ]
     },
     "execution_count": 173,
     "metadata": {},
     "output_type": "execute_result"
    }
   ],
   "source": [
    "hPol"
   ]
  },
  {
   "cell_type": "markdown",
   "metadata": {},
   "source": [
    "Por lo tanto, al sustituír $H_{2n + 1}(1.5)$ obtenemos:"
   ]
  },
  {
   "cell_type": "code",
   "execution_count": 174,
   "metadata": {},
   "outputs": [
    {
     "data": {
      "text/latex": [
       "$\\displaystyle 0.511827701728395$"
      ],
      "text/plain": [
       "0.511827701728395"
      ]
     },
     "execution_count": 174,
     "metadata": {},
     "output_type": "execute_result"
    }
   ],
   "source": [
    "hPol.subs(x,1.5)"
   ]
  },
  {
   "cell_type": "markdown",
   "metadata": {},
   "source": [
    "- ### Ejercicio 3: \n",
    "\n",
    "Use la interpolación de Hermite en en python que concuerda con los datos listados en la tabla para encontrar una aproximación de $f(1.2)$.\n",
    "\n",
    "\n",
    "|$k$|$x_k$| $f(x_k)$  | $f'(x_k)$  |\n",
    "|---|-----|-----------|------------|\n",
    "| 0 | -1  |    -2     |     18     |\n",
    "| 1 |  0  |     2     |     -1     |\n",
    "| 2 |  1  |     6     |     18     |"
   ]
  },
  {
   "cell_type": "markdown",
   "metadata": {},
   "source": [
    "- #### Usando la función propuesta en el ejercicio 1.1"
   ]
  },
  {
   "cell_type": "code",
   "execution_count": 175,
   "metadata": {},
   "outputs": [
    {
     "data": {
      "text/latex": [
       "$\\displaystyle 2 x^{5} + 3 x^{3} - x + 2$"
      ],
      "text/plain": [
       "2*x**5 + 3*x**3 - x + 2"
      ]
     },
     "execution_count": 175,
     "metadata": {},
     "output_type": "execute_result"
    }
   ],
   "source": [
    "xs = [-1, 0, 1]\n",
    "ys = [-2,2,6]\n",
    "dys = [18,-1,18]\n",
    "\n",
    "pol = hermite(5, xs, ys, dys)\n",
    "pol.expand()\n"
   ]
  },
  {
   "cell_type": "markdown",
   "metadata": {},
   "source": [
    "Por lo tanto, al sustituír $H_{2n + 1}(0.5)$ obtenemos:"
   ]
  },
  {
   "cell_type": "code",
   "execution_count": 176,
   "metadata": {},
   "outputs": [
    {
     "data": {
      "text/latex": [
       "$\\displaystyle 1.9375$"
      ],
      "text/plain": [
       "1.93750000000000"
      ]
     },
     "execution_count": 176,
     "metadata": {},
     "output_type": "execute_result"
    }
   ],
   "source": [
    "pol.subs(x,0.5)"
   ]
  },
  {
   "cell_type": "markdown",
   "metadata": {},
   "source": [
    "Graficando los puntos y el polinomio obtenemos:"
   ]
  },
  {
   "cell_type": "code",
   "execution_count": 177,
   "metadata": {},
   "outputs": [
    {
     "data": {
      "image/png": "[encoded data removed]",
      "text/plain": [
       "<Figure size 432x288 with 1 Axes>"
      ]
     },
     "metadata": {
      "needs_background": "light"
     },
     "output_type": "display_data"
    }
   ],
   "source": [
    "# Datos\n",
    "a = np.min(xs[0]-1)\n",
    "b = np.max(xs[len(xs)-1]+1)\n",
    "hx = np.linspace(a,b,101)\n",
    "py = lambdify(x,pol)\n",
    "hy = py(hx)\n",
    "\n",
    "# Gráfica\n",
    "plt.plot(xs, ys, 'o', label='Puntos')\n",
    "plt.plot(hx,hy,label='Polinomio')\n",
    "plt.legend()\n",
    "plt.xlabel('xi')\n",
    "plt.ylabel('fi')\n",
    "plt.title('Lagrange')\n",
    "plt.show()"
   ]
  },
  {
   "cell_type": "markdown",
   "metadata": {},
   "source": [
    "- #### Usando la función del ejercicio 2.1"
   ]
  },
  {
   "cell_type": "code",
   "execution_count": 178,
   "metadata": {},
   "outputs": [
    {
     "data": {
      "image/png": "[encoded data removed]",
      "text/plain": [
       "<Figure size 432x288 with 1 Axes>"
      ]
     },
     "metadata": {
      "needs_background": "light"
     },
     "output_type": "display_data"
    }
   ],
   "source": [
    "hPol = newtonHermite(np.array([-1,0, 1]), np.array([  -2, 2, 6]),np.array([ 18, -1, 18]))"
   ]
  },
  {
   "cell_type": "code",
   "execution_count": 179,
   "metadata": {},
   "outputs": [
    {
     "data": {
      "text/latex": [
       "$\\displaystyle 2.0 x^{5} + 3.0 x^{3} - 1.0 x + 2.0$"
      ],
      "text/plain": [
       "2.0*x**5 + 3.0*x**3 - 1.0*x + 2.0"
      ]
     },
     "execution_count": 179,
     "metadata": {},
     "output_type": "execute_result"
    }
   ],
   "source": [
    "hPol"
   ]
  },
  {
   "cell_type": "markdown",
   "metadata": {},
   "source": [
    "Por lo tanto, al sustituír $H_{2n + 1}(0.5)$ obtenemos:"
   ]
  },
  {
   "cell_type": "code",
   "execution_count": 180,
   "metadata": {},
   "outputs": [
    {
     "data": {
      "text/latex": [
       "$\\displaystyle 1.9375$"
      ],
      "text/plain": [
       "1.93750000000000"
      ]
     },
     "execution_count": 180,
     "metadata": {},
     "output_type": "execute_result"
    }
   ],
   "source": [
    "hPol.subs(x,0.5)"
   ]
  },
  {
   "cell_type": "markdown",
   "metadata": {},
   "source": [
    "## COTA DEL ERROR:"
   ]
  },
  {
   "cell_type": "markdown",
   "metadata": {},
   "source": [
    "Sea $f$ una función continua sobre $[a,b]$, tal que las derivadas de $f$ de orden $\\leqslant 2n + 2$ existen y son continuas en $[a,b]$. Si $p_{2n+1} \\in P_{2n+1}$ es el polinomio que interpola a la función $f$ en los $n +1$ valores distintos $x_0,x_1,...,x_n \\in [a,b]$, entonces para todo $x \\in [a,b]$, existe $\\xi = \\xi(x) \\in \\ ]a,b[$, tal que:\n",
    "\n",
    "$$f(x) = P_{2n+1}(x) + \\frac{f^{(2n+2)}(\\xi)}{(2n + 2)!}[\\pi_{n+1}(x)]^2$$\n",
    "\n",
    "Donde:\n",
    "\n",
    "$$\\pi_{n+1}(x) = \\prod_{j=0}^{n} (x-x_j) = (x-x_0)(x-x_1)...(x-x_n)$$\n",
    "\n",
    "Ademas, para $M_{2n+2} = \\max_{z \\in [a,b]}|f^{(2n+2)}(z)|$, se cumple que:\n",
    "\n",
    "$$|f(x)- P_{2n+1}(x)| \\leqslant \\frac{M_{2n+2}}{(2n+2)!}[\\pi_{n+1}(x)]^2  \\ \\ \\ \\ \\ \\ \\ \\ \\  \\forall x \\in [a,b].$$"
   ]
  },
  {
   "cell_type": "markdown",
   "metadata": {},
   "source": [
    "- ### Ejemplo"
   ]
  },
  {
   "cell_type": "markdown",
   "metadata": {},
   "source": [
    "Considerando $f(x) = ln(x)$ y $p_3 \\in P_3$ el polinomio de interporlación de Hermite para los nodos $x_0 = 1$ y $x_1 = 2$. \n",
    "Determine una cota de error del polinomio $p_3$.\n",
    "\n",
    "La cota del error del polinomio de interporlación de Hermite está dado por:\n",
    "\n",
    "Al tener dos nodos, $n=1$, por lo tanto:\n",
    "\n",
    "$$|f(x) - p_3 (x)| \\leqslant \\frac{M_4}{4!}[\\pi_4 (x)]^2 = \\frac{M_4}{24}(x-1)^2(x-2)^2$$\n",
    "\n",
    "Observe que:\n",
    "\n",
    "$$f'(x) = \\frac{1}{x}$$\n",
    "$$f''(x) = \\frac{-1}{x^2}$$\n",
    "$$f'''(x) = \\frac{2}{x^3}$$\n",
    "$$f^{(4)}(x) = \\frac{-6}{x^4}$$\n",
    "\n",
    "Buscando el maximo:\n",
    "\n",
    "$$M_4 = \\max_{x \\in [1,2]}|f^{(4)}(x) | = \\max_{x \\in [1,2]}\\{\\frac{6}{x^4}\\} = \\frac{6}{1^4} = 6 $$\n",
    "\n",
    "Mientras que:\n",
    "\n",
    "$$[\\pi_4(x)]^2 = (x^2-2x+1)(x^2-4x+4)$$\n",
    "$$[\\pi_4(x)]^2 = x^4-6x^3+13x^2-12x+4$$\n",
    "\n",
    "Por otro lado:\n",
    "\n",
    "$$0 = [[\\pi_4(x)]^2]'$$\n",
    "$$0 = 4x^3 - 18x^2 + 26x - 12$$\n",
    "$$0 = 2(x-1)(2x-3)(x-2)$$\n",
    "\n",
    "Lo que nos permite conocer los puntos criticos que son: $x =1$, $x = \\frac{3}{2}$, $ x = 2$\n",
    "\n",
    "Evaluamos en los extremos y en los puntos críticos:\n",
    "- _Observar que el valor máximo siempre será positivo porque está elevado al cuadrado_\n",
    "\n",
    "$$[\\pi_4(1)]^2 = 0$$\n",
    "$$[\\pi_4(1.5)]^2 = \\frac{1}{16}$$\n",
    "$$[\\pi_4(2)]^2 = 0$$\n",
    "\n",
    "Se deduce que:\n",
    "\n",
    "$$[\\pi_4(x)]^2 \\leqslant \\frac{1}{16} \\ \\ \\ \\ \\ \\ \\ \\ \\  \\forall x \\in [1,2].$$\n",
    "\n",
    "Por lo tanto se obtiene el valor de la cota:\n",
    "\n",
    "$$|f(x) - p_3(x)| \\leqslant \\frac{6}{24} . \\frac{1}{16} = {\\color{green}{\\frac{1}{64}}} \\ \\ \\ \\ \\ \\ \\ \\ \\  \\forall x \\in [1,2].$$"
   ]
  },
  {
   "cell_type": "markdown",
   "metadata": {},
   "source": [
    "## REFERENCIAS:"
   ]
  },
  {
   "cell_type": "markdown",
   "metadata": {},
   "source": [
    "_Burden, Richard & Faires, J. Douglas (2010). Hermite Interpolation en Numerical Analy\u0002sis, novena edición (pp. 136-144). Cengage Learning._ <br/>\n",
    "_Trejos, C. V. (2020, 12 octubre). 21. Polinomio de interpolación de Hermite [Vídeo]. YouTube. https://www.youtube.com/watch?v=H57JvLEu8TY&feature=youtu.be_ <br/>\n",
    "_Süli, Endre & Mayers, David (2003). Hermite Interpolation en An Introduction to Nu\u0002merical Analysis, primera edición (pp. 187-191). Cambridge University Pres_"
   ]
  }
 ],
 "metadata": {
  "interpreter": {
   "hash": "aee8b7b246df8f9039afb4144a1f6fd8d2ca17a180786b69acc140d282b71a49"
  },
  "kernelspec": {
   "display_name": "Python 3.9.5 64-bit",
   "name": "python3"
  },
  "language_info": {
   "name": "python",
   "version": ""
  },
  "orig_nbformat": 4
 },
 "nbformat": 4,
 "nbformat_minor": 2
}